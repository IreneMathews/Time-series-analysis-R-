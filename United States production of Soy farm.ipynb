{
 "cells": [
  {
   "cell_type": "markdown",
   "metadata": {},
   "source": [
    "# A time series analysis of United States production of Soy farm Using R"
   ]
  },
  {
   "cell_type": "markdown",
   "metadata": {},
   "source": [
    "* Soybean oil finds its way into food products such as margarine, salad dressings and cooking oils, and industrial products such as plastics and biodiesel fuel. Lecithin, extracted from soybean oil, is used for everything from pharmaceuticals to protective coatings. \n",
    "* It is a natural emulsifier and lubricant. Lecithin is used, for example, to keep the chocolate and cocoa butter in a candy bar from separating. \n",
    "* Unlike many other oilseed crops, U.S. soybean production is wide-spanning and diverse. Eighty million acres of soybeans grown across the U.S. means soybeans are always readily available to meet the food industry and consumers’ ingredient needs, despite inclement weather. \n",
    "* Soybean farms sit among the 97% of family owned farms in the U.S. Soybean farmers use innovative practices, including regenerative farming, to grow sustainable beans on more than 300,000 farms across 45 states. U.S. soybean farms are thriving and will continue to keep up with demand for soybean ingredients, including soybean oil, high oleic soybean oil, soybean shortenings and soy protein. \n"
   ]
  },
  {
   "cell_type": "markdown",
   "metadata": {},
   "source": [
    "## \tAbout data\n",
    "The data that is obtained consists of 130 entries, starting from June 2007 to March 2018. The data is obtained from <a href='https://www.kaggle.com/ainslie/usda-wasde-monthly-corn-soybean-projections'> Kaggle.com </a>.\n",
    "The data that is taken into consideration is the production of Soy crop in the United States of America. The unit is in million bushels.\n"
   ]
  },
  {
   "cell_type": "markdown",
   "metadata": {},
   "source": [
    "## Procedure and Analysis"
   ]
  },
  {
   "cell_type": "markdown",
   "metadata": {},
   "source": [
    "### Importing necessary libraries"
   ]
  },
  {
   "cell_type": "code",
   "execution_count": 1,
   "metadata": {},
   "outputs": [
    {
     "name": "stderr",
     "output_type": "stream",
     "text": [
      "Warning message:\n",
      "\"package 'readxl' was built under R version 3.6.2\""
     ]
    }
   ],
   "source": [
    "library(readxl)\n",
    "SoyPricedetails <- read_excel(\"C:/Users/Irene Mathews/Documents/R/SoyPricedetails.xlsx\")\n"
   ]
  },
  {
   "cell_type": "code",
   "execution_count": 2,
   "metadata": {},
   "outputs": [
    {
     "name": "stderr",
     "output_type": "stream",
     "text": [
      "Warning message:\n",
      "\"package 'tseries' was built under R version 3.6.3\"Registered S3 method overwritten by 'quantmod':\n",
      "  method            from\n",
      "  as.zoo.data.frame zoo \n",
      "Warning message:\n",
      "\"package 'astsa' was built under R version 3.6.3\"Warning message:\n",
      "\"package 'dplyr' was built under R version 3.6.2\"\n",
      "Attaching package: 'dplyr'\n",
      "\n",
      "The following objects are masked from 'package:stats':\n",
      "\n",
      "    filter, lag\n",
      "\n",
      "The following objects are masked from 'package:base':\n",
      "\n",
      "    intersect, setdiff, setequal, union\n",
      "\n"
     ]
    }
   ],
   "source": [
    "library(tseries)\n",
    "library(astsa)\n",
    "library(dplyr)\n"
   ]
  },
  {
   "cell_type": "markdown",
   "metadata": {},
   "source": [
    "###  Splitting the data \n",
    "According to training and testing data, since we aim to forecast only the data of the last 5 values, we split it in such a way that the train has all the data other than the last 5.\\\n",
    "The time series model is fit into this set of training data.\n"
   ]
  },
  {
   "cell_type": "code",
   "execution_count": 3,
   "metadata": {},
   "outputs": [
    {
     "data": {
      "text/plain": [
       "   Min. 1st Qu.  Median    Mean 3rd Qu.    Max. \n",
       "  70.36   83.17   89.51   90.12   92.26  120.59 "
      ]
     },
     "metadata": {},
     "output_type": "display_data"
    }
   ],
   "source": [
    "split=as.integer(count(SoyPricedetails)-5)\n",
    "# making sure that the test dataset is of 5 rows\n",
    "train<-SoyPricedetails$`United States Production`[1:split]\n",
    "test<-SoyPricedetails$`United States Production`[-(1:split)]\n",
    "summary(train)\n"
   ]
  },
  {
   "cell_type": "markdown",
   "metadata": {},
   "source": [
    "We can see from the summary statistics that the minimum production of the Soy throughout the years was 70.36 million bushels in one of the months, and the maximum was 120.59 million bushels.\n",
    "\n",
    "### Converting the data into a time series data"
   ]
  },
  {
   "cell_type": "code",
   "execution_count": 4,
   "metadata": {},
   "outputs": [
    {
     "data": {
      "image/png": "[encoded data removed]",
      "text/plain": [
       "plot without title"
      ]
     },
     "metadata": {},
     "output_type": "display_data"
    }
   ],
   "source": [
    "tsdata<-ts(train,start = c(2007,6),frequency = 12)\n",
    "ts.plot(tsdata)\n"
   ]
  },
  {
   "cell_type": "markdown",
   "metadata": {},
   "source": [
    "The plot shows presence of Trend and no seasonality. Since trend is present, we can easily say that the data is non-stationary\n",
    "### Making the data stationary:\n",
    "We need to make sure that the is stationary. This is because, the assumptions are such that there is constant mean, finite variance and the covariance is dependent on the lag(auto-covariance) \\\n",
    "So we check if the data is stationary using Augmented Dickey-Fuller test.\n"
   ]
  },
  {
   "cell_type": "code",
   "execution_count": 5,
   "metadata": {},
   "outputs": [
    {
     "data": {
      "text/plain": [
       "\n",
       "\tAugmented Dickey-Fuller Test\n",
       "\n",
       "data:  tsdata\n",
       "Dickey-Fuller = -1.5399, Lag order = 4, p-value = 0.7677\n",
       "alternative hypothesis: stationary\n"
      ]
     },
     "metadata": {},
     "output_type": "display_data"
    }
   ],
   "source": [
    "adf.test(tsdata)"
   ]
  },
  {
   "cell_type": "markdown",
   "metadata": {},
   "source": [
    "The p-value was found to be more than 0.05, which means that the data is non-stationary(null-hypothesis). So we do differencing."
   ]
  },
  {
   "cell_type": "code",
   "execution_count": 6,
   "metadata": {},
   "outputs": [
    {
     "name": "stderr",
     "output_type": "stream",
     "text": [
      "Warning message in adf.test(sd):\n",
      "\"p-value smaller than printed p-value\""
     ]
    },
    {
     "data": {
      "text/plain": [
       "\n",
       "\tAugmented Dickey-Fuller Test\n",
       "\n",
       "data:  sd\n",
       "Dickey-Fuller = -5.2217, Lag order = 4, p-value = 0.01\n",
       "alternative hypothesis: stationary\n"
      ]
     },
     "metadata": {},
     "output_type": "display_data"
    }
   ],
   "source": [
    "sd=diff(tsdata)\n",
    "adf.test(sd)"
   ]
  },
  {
   "cell_type": "code",
   "execution_count": 7,
   "metadata": {},
   "outputs": [
    {
     "data": {
      "image/png": "[encoded data removed]",
      "text/plain": [
       "Plot with title \"Series  sd\""
      ]
     },
     "metadata": {},
     "output_type": "display_data"
    }
   ],
   "source": [
    "acf(sd)"
   ]
  },
  {
   "cell_type": "code",
   "execution_count": 8,
   "metadata": {},
   "outputs": [
    {
     "data": {
      "image/png": "[encoded data removed]",
      "text/plain": [
       "Plot with title \"Series  sd\""
      ]
     },
     "metadata": {},
     "output_type": "display_data"
    }
   ],
   "source": [
    "pacf(sd)"
   ]
  },
  {
   "cell_type": "markdown",
   "metadata": {},
   "source": [
    "The data is found to be stationary since the ADF test gave a p-value below 0.05 and the ACF and PACF plot gives intuitive result. \\\n",
    "Apparently, the data shows that it is lacking time dependence. But we shall fit a model with a model according to the AIC value\n",
    "### Fitting the model\n",
    "Using trace, we find the 5 suitable models that shows the least AIC value. \n"
   ]
  },
  {
   "cell_type": "code",
   "execution_count": 9,
   "metadata": {},
   "outputs": [
    {
     "name": "stderr",
     "output_type": "stream",
     "text": [
      "Warning message:\n",
      "\"package 'forecast' was built under R version 3.6.3\"\n",
      "Attaching package: 'forecast'\n",
      "\n",
      "The following object is masked from 'package:astsa':\n",
      "\n",
      "    gas\n",
      "\n"
     ]
    }
   ],
   "source": [
    "library(forecast)"
   ]
  },
  {
   "cell_type": "code",
   "execution_count": 10,
   "metadata": {},
   "outputs": [
    {
     "name": "stdout",
     "output_type": "stream",
     "text": [
      "\n",
      " ARIMA(2,1,2)            with drift         : 565.4705\n",
      " ARIMA(0,1,0)            with drift         : 558.0152\n",
      " ARIMA(1,1,0)            with drift         : 560.0973\n",
      " ARIMA(0,1,1)            with drift         : 560.0989\n",
      " ARIMA(0,1,0)                               : 559.2323\n",
      " ARIMA(1,1,1)            with drift         : 562.2479\n",
      "\n",
      " Best model: ARIMA(0,1,0)            with drift         \n",
      "\n"
     ]
    }
   ],
   "source": [
    "fit=auto.arima(tsdata,seasonal = FALSE,trace = TRUE)"
   ]
  },
  {
   "cell_type": "markdown",
   "metadata": {},
   "source": [
    "Apart from the model without Auto-regression or moving average, we fit the model with order (1,1,0) since it gives the lesser AIC value."
   ]
  },
  {
   "cell_type": "code",
   "execution_count": 11,
   "metadata": {},
   "outputs": [
    {
     "data": {
      "text/plain": [
       "\n",
       "Call:\n",
       "arima(x = tsdata, order = c(1, 1, 0))\n",
       "\n",
       "Coefficients:\n",
       "         ar1\n",
       "      0.0165\n",
       "s.e.  0.0902\n",
       "\n",
       "sigma^2 estimated as 5.235:  log likelihood = -278.58,  aic = 561.17"
      ]
     },
     "metadata": {},
     "output_type": "display_data"
    }
   ],
   "source": [
    "fit=arima(tsdata,order = c(1,1,0) )\n",
    "fit\n"
   ]
  },
  {
   "cell_type": "markdown",
   "metadata": {},
   "source": [
    "### Residual\n",
    "\n",
    "The fitted models needs to be checked if it has any issues with following the conventional assumptions about the white noise(residuals).\\\n",
    "So we need to check if the data is\n",
    "*\tUncorrelated\n",
    "*\tNormal \n",
    "First we find the residuals\n"
   ]
  },
  {
   "cell_type": "code",
   "execution_count": 12,
   "metadata": {},
   "outputs": [
    {
     "data": {
      "image/png": "[encoded data removed]",
      "text/plain": [
       "Plot with title \"Residuals of the Fitted Model\""
      ]
     },
     "metadata": {},
     "output_type": "display_data"
    }
   ],
   "source": [
    "# to obtain the residuals from the fitted model\n",
    "res=residuals(fit)\n",
    "plot(res,main=\"Residuals of the Fitted Model\")\n"
   ]
  },
  {
   "cell_type": "markdown",
   "metadata": {},
   "source": [
    "Then, we check if the data is uncorrelated. For that we plot the ACF plot. From the ACF plot, as you can see, since other than at lag = 0, the values are less, so it shows uncorrelation. So the first condition is met."
   ]
  },
  {
   "cell_type": "code",
   "execution_count": 13,
   "metadata": {},
   "outputs": [
    {
     "data": {
      "image/png": "[encoded data removed]",
      "text/plain": [
       "Plot with title \"Series  res\""
      ]
     },
     "metadata": {},
     "output_type": "display_data"
    }
   ],
   "source": [
    "acf(res)"
   ]
  },
  {
   "cell_type": "markdown",
   "metadata": {},
   "source": [
    "So the residuals are not correlated\n",
    "\n",
    "For checking the normality, we use \n",
    "*\tQQ-plot\n",
    "*\t Hypothesis tests\n"
   ]
  },
  {
   "cell_type": "code",
   "execution_count": 14,
   "metadata": {},
   "outputs": [
    {
     "name": "stderr",
     "output_type": "stream",
     "text": [
      "Warning message:\n",
      "\"package 'olsrr' was built under R version 3.6.3\"\n",
      "Attaching package: 'olsrr'\n",
      "\n",
      "The following object is masked from 'package:datasets':\n",
      "\n",
      "    rivers\n",
      "\n"
     ]
    }
   ],
   "source": [
    "# this shows zero creelation among the residuals\n",
    "library(olsrr)\n"
   ]
  },
  {
   "cell_type": "code",
   "execution_count": 15,
   "metadata": {},
   "outputs": [
    {
     "name": "stderr",
     "output_type": "stream",
     "text": [
      "Warning message:\n",
      "\"package 'ggpubr' was built under R version 3.6.2\"Loading required package: ggplot2\n",
      "Loading required package: magrittr\n",
      "\n",
      "Attaching package: 'ggpubr'\n",
      "\n",
      "The following object is masked from 'package:forecast':\n",
      "\n",
      "    gghistogram\n",
      "\n"
     ]
    }
   ],
   "source": [
    "library(ggpubr)"
   ]
  },
  {
   "cell_type": "code",
   "execution_count": 16,
   "metadata": {},
   "outputs": [
    {
     "name": "stderr",
     "output_type": "stream",
     "text": [
      "Don't know how to automatically pick scale for object of type ts. Defaulting to continuous.\n",
      "Don't know how to automatically pick scale for object of type ts. Defaulting to continuous.\n",
      "Don't know how to automatically pick scale for object of type ts. Defaulting to continuous.\n"
     ]
    },
    {
     "data": {
      "image/png": "[encoded data removed]",
      "text/plain": [
       "plot without title"
      ]
     },
     "metadata": {},
     "output_type": "display_data"
    }
   ],
   "source": [
    "ggqqplot(res)"
   ]
  },
  {
   "cell_type": "code",
   "execution_count": 17,
   "metadata": {},
   "outputs": [
    {
     "name": "stderr",
     "output_type": "stream",
     "text": [
      "Warning message in ks.test(y, \"pnorm\", mean(y), sd(y)):\n",
      "\"ties should not be present for the Kolmogorov-Smirnov test\""
     ]
    },
    {
     "data": {
      "text/plain": [
       "-----------------------------------------------\n",
       "       Test             Statistic       pvalue  \n",
       "-----------------------------------------------\n",
       "Shapiro-Wilk              0.478          0.0000 \n",
       "Kolmogorov-Smirnov        0.3631         0.0000 \n",
       "Cramer-von Mises          22.978         0.0000 \n",
       "Anderson-Darling         24.4914         0.0000 \n",
       "-----------------------------------------------"
      ]
     },
     "metadata": {},
     "output_type": "display_data"
    }
   ],
   "source": [
    "ols_test_normality(res)"
   ]
  },
  {
   "cell_type": "markdown",
   "metadata": {},
   "source": [
    "The null hypothesis for normality should have more than 0.05 as p-value. \\But since the values are less than 0.05, the data doesn’t show normality.\\\n",
    "We see that there is need for transformation of the time series data. So we go for Box-Cox Transformation\n",
    "### Box Cox transformation in the Time series data\n",
    "The Box-Cox transformation is a family of power transformations indexed by a parameter lambda. Whenever you use it the parameter needs to be estimated from the data.\\\n",
    "The BoxCox.lambda() function, will provide us an optimal value for parameter lambda:"
   ]
  },
  {
   "cell_type": "code",
   "execution_count": 18,
   "metadata": {},
   "outputs": [
    {
     "name": "stdout",
     "output_type": "stream",
     "text": [
      "[1] 0.79291\n"
     ]
    }
   ],
   "source": [
    "lambda <- BoxCox.lambda(tsdata)\n",
    "print(lambda)\n"
   ]
  },
  {
   "cell_type": "markdown",
   "metadata": {},
   "source": [
    "So we transfer the data using the lambda value and simultaneously convert the data to a time series data \\\n",
    "And we repeat the steps\n",
    "#### Converting to time series\n"
   ]
  },
  {
   "cell_type": "code",
   "execution_count": 19,
   "metadata": {},
   "outputs": [
    {
     "data": {
      "image/png": "[encoded data removed]",
      "text/plain": [
       "plot without title"
      ]
     },
     "metadata": {},
     "output_type": "display_data"
    }
   ],
   "source": [
    "trans_data=ts(BoxCox(tsdata, lambda = lambda),start = c(2007,6),frequency = 12)\n",
    "ts.plot(trans_data)\n"
   ]
  },
  {
   "cell_type": "markdown",
   "metadata": {},
   "source": [
    "#### Converting data to a stationary series"
   ]
  },
  {
   "cell_type": "code",
   "execution_count": 20,
   "metadata": {},
   "outputs": [
    {
     "data": {
      "text/plain": [
       "\n",
       "\tAugmented Dickey-Fuller Test\n",
       "\n",
       "data:  trans_data\n",
       "Dickey-Fuller = -1.5908, Lag order = 4, p-value = 0.7466\n",
       "alternative hypothesis: stationary\n"
      ]
     },
     "metadata": {},
     "output_type": "display_data"
    }
   ],
   "source": [
    "adf.test(trans_data)"
   ]
  },
  {
   "cell_type": "code",
   "execution_count": 21,
   "metadata": {},
   "outputs": [
    {
     "name": "stderr",
     "output_type": "stream",
     "text": [
      "Warning message in adf.test(sd):\n",
      "\"p-value smaller than printed p-value\""
     ]
    },
    {
     "data": {
      "text/plain": [
       "\n",
       "\tAugmented Dickey-Fuller Test\n",
       "\n",
       "data:  sd\n",
       "Dickey-Fuller = -5.2264, Lag order = 4, p-value = 0.01\n",
       "alternative hypothesis: stationary\n"
      ]
     },
     "metadata": {},
     "output_type": "display_data"
    }
   ],
   "source": [
    "sd=diff(trans_data)\n",
    "adf.test(sd)\n"
   ]
  },
  {
   "cell_type": "markdown",
   "metadata": {},
   "source": [
    "#### Fitting the model"
   ]
  },
  {
   "cell_type": "code",
   "execution_count": 22,
   "metadata": {},
   "outputs": [
    {
     "name": "stdout",
     "output_type": "stream",
     "text": [
      "\n",
      " ARIMA(2,1,2)            with drift         : 334.025\n",
      " ARIMA(0,1,0)            with drift         : 326.6116\n",
      " ARIMA(1,1,0)            with drift         : 328.6944\n",
      " ARIMA(0,1,1)            with drift         : 328.6959\n",
      " ARIMA(0,1,0)                               : 327.7434\n",
      " ARIMA(1,1,1)            with drift         : Inf\n",
      "\n",
      " Best model: ARIMA(0,1,0)            with drift         \n",
      "\n"
     ]
    }
   ],
   "source": [
    "library(forecast)\n",
    "trans_fit=auto.arima(trans_data,seasonal = FALSE,trace = TRUE)"
   ]
  },
  {
   "cell_type": "code",
   "execution_count": 23,
   "metadata": {},
   "outputs": [
    {
     "data": {
      "text/plain": [
       "\n",
       "Call:\n",
       "arima(x = trans_data, order = c(1, 1, 0))\n",
       "\n",
       "Coefficients:\n",
       "         ar1\n",
       "      0.0161\n",
       "s.e.  0.0902\n",
       "\n",
       "sigma^2 estimated as 0.8094:  log likelihood = -162.84,  aic = 329.68"
      ]
     },
     "metadata": {},
     "output_type": "display_data"
    }
   ],
   "source": [
    "trans_fit=arima(trans_data,order = c(1,1,0))\n",
    "trans_fit\n"
   ]
  },
  {
   "cell_type": "markdown",
   "metadata": {},
   "source": [
    "#### Residual Analysis"
   ]
  },
  {
   "cell_type": "code",
   "execution_count": 24,
   "metadata": {},
   "outputs": [
    {
     "data": {
      "image/png": "[encoded data removed]",
      "text/plain": [
       "Plot with title \"Residuals of the Fitted Model\""
      ]
     },
     "metadata": {},
     "output_type": "display_data"
    }
   ],
   "source": [
    "# to obtain the residuals from the fitted model\n",
    "trans_res=residuals(trans_fit)\n",
    "plot(trans_res,main=\"Residuals of the Fitted Model\")\n"
   ]
  },
  {
   "cell_type": "markdown",
   "metadata": {},
   "source": [
    "##### Checking for non correlation"
   ]
  },
  {
   "cell_type": "code",
   "execution_count": 25,
   "metadata": {},
   "outputs": [
    {
     "data": {
      "image/png": "[encoded data removed]",
      "text/plain": [
       "Plot with title \"Series  trans_res\""
      ]
     },
     "metadata": {},
     "output_type": "display_data"
    }
   ],
   "source": [
    "acf(trans_res)"
   ]
  },
  {
   "cell_type": "markdown",
   "metadata": {},
   "source": [
    "##### Checking for normality"
   ]
  },
  {
   "cell_type": "code",
   "execution_count": 38,
   "metadata": {},
   "outputs": [
    {
     "name": "stderr",
     "output_type": "stream",
     "text": [
      "Warning message in ks.test(y, \"pnorm\", mean(y), sd(y)):\n",
      "\"ties should not be present for the Kolmogorov-Smirnov test\""
     ]
    },
    {
     "data": {
      "text/plain": [
       "-----------------------------------------------\n",
       "       Test             Statistic       pvalue  \n",
       "-----------------------------------------------\n",
       "Shapiro-Wilk              0.4781         0.0000 \n",
       "Kolmogorov-Smirnov        0.3635         0.0000 \n",
       "Cramer-von Mises         26.1461         0.0000 \n",
       "Anderson-Darling         24.4632         0.0000 \n",
       "-----------------------------------------------"
      ]
     },
     "metadata": {},
     "output_type": "display_data"
    }
   ],
   "source": [
    "# this shows zero correlation among the residuals\n",
    "#install.packages('olsrr')\n",
    "library(olsrr)\n",
    "ols_test_normality(trans_res)\n"
   ]
  },
  {
   "cell_type": "markdown",
   "metadata": {},
   "source": [
    "Since the transformed model shows the exact same result as that of the original data, we use then original data itself for the in-sample forecasting.\n",
    "### Forecasting\n",
    "Time series forecasting is the use of a model to predict future values based on previously observed values.\n",
    "*\tIn-sample forecasting \\\n",
    "We had initially split the data into train and test. So from the training data, we fitted a model and now we are going to forecast the next 5 values. We compare these 5 values with the 5 values in the test data.\n",
    "Using error sum of squares, we find the error of the data. Lesser the error, better the model.\n"
   ]
  },
  {
   "cell_type": "code",
   "execution_count": 39,
   "metadata": {},
   "outputs": [
    {
     "data": {
      "image/png": "[encoded data removed]",
      "text/plain": [
       "Plot with title \"Forecasts from ARIMA(1,1,0)\""
      ]
     },
     "metadata": {},
     "output_type": "display_data"
    }
   ],
   "source": [
    "insample_forecast=forecast(fit,h=5)\n",
    "plot(insample_forecast)\n"
   ]
  },
  {
   "cell_type": "markdown",
   "metadata": {},
   "source": [
    "Comparing the forecasted values to the actual values"
   ]
  },
  {
   "cell_type": "code",
   "execution_count": 40,
   "metadata": {},
   "outputs": [
    {
     "data": {
      "text/html": [
       "18.0801507471702"
      ],
      "text/latex": [
       "18.0801507471702"
      ],
      "text/markdown": [
       "18.0801507471702"
      ],
      "text/plain": [
       "[1] 18.08015"
      ]
     },
     "metadata": {},
     "output_type": "display_data"
    }
   ],
   "source": [
    "a=data.frame(insample_forecast)\n",
    "error=sum(a$Point.Forecast-test, lambda = lambda)^2 \n",
    "# Root mean square error\n",
    "#error=(sum(a$Point.Forecast-test, lambda = lambda)^2 / count(a))^(1/2)\n",
    "error\n"
   ]
  },
  {
   "cell_type": "markdown",
   "metadata": {},
   "source": [
    "The error sum of squares was found to be 18.08015 units.  \\\n",
    "Before we go for out-sample forecasting, let us try fitting another model just so that we can have a comparison and use a model that gives out lesser error. \n",
    "### Holts Winters exponential smoothing\n",
    "Holt-Winters forecasting is a way to model and predict the behaviour of a sequence of values over time—a time series. Holt-Winters is one of the most popular forecasting techniques for time series. \\\n",
    "Holt-Winters uses exponential smoothing to encode lots of values from the past and use them to predict the values for the present and future.\n",
    "\n",
    "#### Fitting the model from the training time series data"
   ]
  },
  {
   "cell_type": "code",
   "execution_count": 41,
   "metadata": {},
   "outputs": [
    {
     "data": {
      "text/plain": [
       "Holt-Winters exponential smoothing with trend and additive seasonal component.\n",
       "\n",
       "Call:\n",
       "HoltWinters(x = tsdata)\n",
       "\n",
       "Smoothing parameters:\n",
       " alpha: 0.8978597\n",
       " beta : 0.008031618\n",
       " gamma: 1\n",
       "\n",
       "Coefficients:\n",
       "            [,1]\n",
       "a   120.81522335\n",
       "b     0.34786681\n",
       "s1    0.91485328\n",
       "s2    0.42138353\n",
       "s3    0.04341722\n",
       "s4   -0.05276503\n",
       "s5   -0.08605106\n",
       "s6   -0.09432757\n",
       "s7    2.88326807\n",
       "s8    0.88070954\n",
       "s9    0.06531138\n",
       "s10  -0.70665455\n",
       "s11  -1.09066656\n",
       "s12  -0.23522335"
      ]
     },
     "metadata": {},
     "output_type": "display_data"
    }
   ],
   "source": [
    "#Holts Winters exponential smoothing\n",
    "trainforecasts=HoltWinters(tsdata)\n",
    "trainforecasts"
   ]
  },
  {
   "cell_type": "code",
   "execution_count": 42,
   "metadata": {},
   "outputs": [
    {
     "data": {
      "image/png": "[encoded data removed]",
      "text/plain": [
       "Plot with title \"Holt-Winters filtering\""
      ]
     },
     "metadata": {},
     "output_type": "display_data"
    }
   ],
   "source": [
    "plot(trainforecasts)"
   ]
  },
  {
   "cell_type": "markdown",
   "metadata": {},
   "source": [
    "#### \tForecasting the next 5 years of data."
   ]
  },
  {
   "cell_type": "code",
   "execution_count": 43,
   "metadata": {},
   "outputs": [
    {
     "data": {
      "text/plain": [
       "         Point Forecast    Lo 80    Hi 80    Lo 95    Hi 95\n",
       "Nov 2017       122.0779 119.0748 125.0811 117.4851 126.6708\n",
       "Dec 2017       121.9323 117.8818 125.9828 115.7376 128.1270\n",
       "Jan 2018       121.9022 117.0122 126.7923 114.4236 129.3809\n",
       "Feb 2018       122.1539 116.5381 127.7698 113.5652 130.7426\n",
       "Mar 2018       122.4685 116.2009 128.7361 112.8830 132.0540"
      ]
     },
     "metadata": {},
     "output_type": "display_data"
    }
   ],
   "source": [
    "forecast_data=forecast(trainforecasts,h=5)\n",
    "forecast_data"
   ]
  },
  {
   "cell_type": "code",
   "execution_count": 44,
   "metadata": {},
   "outputs": [
    {
     "data": {
      "image/png": "[encoded data removed]",
      "text/plain": [
       "Plot with title \"Forecasts from HoltWinters\""
      ]
     },
     "metadata": {},
     "output_type": "display_data"
    }
   ],
   "source": [
    "plot(forecast_data)"
   ]
  },
  {
   "cell_type": "markdown",
   "metadata": {},
   "source": [
    "Comparing the forecasted values to the actual values"
   ]
  },
  {
   "cell_type": "code",
   "execution_count": 45,
   "metadata": {},
   "outputs": [
    {
     "data": {
      "text/html": [
       "11.0949568372216"
      ],
      "text/latex": [
       "11.0949568372216"
      ],
      "text/markdown": [
       "11.0949568372216"
      ],
      "text/plain": [
       "[1] 11.09496"
      ]
     },
     "metadata": {},
     "output_type": "display_data"
    }
   ],
   "source": [
    "forecast_indataframe=data.frame(forecast_data)\n",
    "error=sum(forecast_indataframe$Point.Forecast-test)\n",
    "error\n"
   ]
  },
  {
   "cell_type": "markdown",
   "metadata": {},
   "source": [
    "The error in the ARIMA (1,1,0) is more than that of the Holt-Winter Exponential smoothing model. \\\n",
    "Hence we can proceed for out-sample forecasting with the model obtained from Holt-Winter Exponential smoothing\n",
    "### Out-sample Forecasting:\n",
    "The out-sample forecasting is done by determining the next 5 terms that does not exist in the time series data yet\n",
    "For out-sample, we need to have the enitre data data.\n"
   ]
  },
  {
   "cell_type": "code",
   "execution_count": 46,
   "metadata": {},
   "outputs": [
    {
     "data": {
      "text/plain": [
       "Holt-Winters exponential smoothing with trend and additive seasonal component.\n",
       "\n",
       "Call:\n",
       "HoltWinters(x = data)\n",
       "\n",
       "Smoothing parameters:\n",
       " alpha: 0.9016075\n",
       " beta : 0.005505674\n",
       " gamma: 1\n",
       "\n",
       "Coefficients:\n",
       "            [,1]\n",
       "a   119.61061196\n",
       "b     0.28020860\n",
       "s1   -0.06962027\n",
       "s2    2.82793968\n",
       "s3    0.84153882\n",
       "s4    0.05316929\n",
       "s5   -0.70259974\n",
       "s6   -1.05697138\n",
       "s7   -0.16320542\n",
       "s8    0.79124588\n",
       "s9    0.43573453\n",
       "s10  -0.02603097\n",
       "s11  -0.06281729\n",
       "s12  -0.09061196"
      ]
     },
     "metadata": {},
     "output_type": "display_data"
    },
    {
     "data": {
      "text/plain": [
       "         Point Forecast    Lo 80    Hi 80    Lo 95    Hi 95\n",
       "Apr 2018       119.8212 116.8734 122.7690 115.3129 124.3295\n",
       "May 2018       122.9990 119.0201 126.9779 116.9138 129.0842\n",
       "Jun 2018       121.2928 116.4915 126.0940 113.9499 128.6357\n",
       "Jul 2018       120.7846 115.2754 126.2938 112.3590 129.2102\n",
       "Aug 2018       120.3091 114.1666 126.4515 110.9150 129.7031"
      ]
     },
     "metadata": {},
     "output_type": "display_data"
    }
   ],
   "source": [
    "#Holts Winters exponential smoothing\n",
    "data<- ts(SoyPricedetails$`United States Production`,start = c(2007,6),frequency = 12)\n",
    "trainforecasts=HoltWinters(data)\n",
    "trainforecasts\n",
    "\n",
    "forecast_data=forecast(trainforecasts,h=5)\n",
    "forecast_data\n"
   ]
  },
  {
   "cell_type": "code",
   "execution_count": 47,
   "metadata": {},
   "outputs": [
    {
     "data": {
      "image/png": "[encoded data removed]",
      "text/plain": [
       "Plot with title \"Forecasts from HoltWinters\""
      ]
     },
     "metadata": {},
     "output_type": "display_data"
    }
   ],
   "source": [
    "plot(forecast_data)"
   ]
  },
  {
   "cell_type": "code",
   "execution_count": 48,
   "metadata": {},
   "outputs": [
    {
     "data": {
      "text/html": [
       "<table>\n",
       "<caption>A data.frame: 5 × 5</caption>\n",
       "<thead>\n",
       "\t<tr><th></th><th scope=col>Point.Forecast</th><th scope=col>Lo.80</th><th scope=col>Hi.80</th><th scope=col>Lo.95</th><th scope=col>Hi.95</th></tr>\n",
       "\t<tr><th></th><th scope=col>&lt;dbl&gt;</th><th scope=col>&lt;dbl&gt;</th><th scope=col>&lt;dbl&gt;</th><th scope=col>&lt;dbl&gt;</th><th scope=col>&lt;dbl&gt;</th></tr>\n",
       "</thead>\n",
       "<tbody>\n",
       "\t<tr><th scope=row>Apr 2018</th><td>119.8212</td><td>116.8734</td><td>122.7690</td><td>115.3129</td><td>124.3295</td></tr>\n",
       "\t<tr><th scope=row>May 2018</th><td>122.9990</td><td>119.0201</td><td>126.9779</td><td>116.9138</td><td>129.0842</td></tr>\n",
       "\t<tr><th scope=row>Jun 2018</th><td>121.2928</td><td>116.4915</td><td>126.0940</td><td>113.9499</td><td>128.6357</td></tr>\n",
       "\t<tr><th scope=row>Jul 2018</th><td>120.7846</td><td>115.2754</td><td>126.2938</td><td>112.3590</td><td>129.2102</td></tr>\n",
       "\t<tr><th scope=row>Aug 2018</th><td>120.3091</td><td>114.1666</td><td>126.4515</td><td>110.9150</td><td>129.7031</td></tr>\n",
       "</tbody>\n",
       "</table>\n"
      ],
      "text/latex": [
       "A data.frame: 5 × 5\n",
       "\\begin{tabular}{r|lllll}\n",
       "  & Point.Forecast & Lo.80 & Hi.80 & Lo.95 & Hi.95\\\\\n",
       "  & <dbl> & <dbl> & <dbl> & <dbl> & <dbl>\\\\\n",
       "\\hline\n",
       "\tApr 2018 & 119.8212 & 116.8734 & 122.7690 & 115.3129 & 124.3295\\\\\n",
       "\tMay 2018 & 122.9990 & 119.0201 & 126.9779 & 116.9138 & 129.0842\\\\\n",
       "\tJun 2018 & 121.2928 & 116.4915 & 126.0940 & 113.9499 & 128.6357\\\\\n",
       "\tJul 2018 & 120.7846 & 115.2754 & 126.2938 & 112.3590 & 129.2102\\\\\n",
       "\tAug 2018 & 120.3091 & 114.1666 & 126.4515 & 110.9150 & 129.7031\\\\\n",
       "\\end{tabular}\n"
      ],
      "text/markdown": [
       "\n",
       "A data.frame: 5 × 5\n",
       "\n",
       "| <!--/--> | Point.Forecast &lt;dbl&gt; | Lo.80 &lt;dbl&gt; | Hi.80 &lt;dbl&gt; | Lo.95 &lt;dbl&gt; | Hi.95 &lt;dbl&gt; |\n",
       "|---|---|---|---|---|---|\n",
       "| Apr 2018 | 119.8212 | 116.8734 | 122.7690 | 115.3129 | 124.3295 |\n",
       "| May 2018 | 122.9990 | 119.0201 | 126.9779 | 116.9138 | 129.0842 |\n",
       "| Jun 2018 | 121.2928 | 116.4915 | 126.0940 | 113.9499 | 128.6357 |\n",
       "| Jul 2018 | 120.7846 | 115.2754 | 126.2938 | 112.3590 | 129.2102 |\n",
       "| Aug 2018 | 120.3091 | 114.1666 | 126.4515 | 110.9150 | 129.7031 |\n",
       "\n"
      ],
      "text/plain": [
       "         Point.Forecast Lo.80    Hi.80    Lo.95    Hi.95   \n",
       "Apr 2018 119.8212       116.8734 122.7690 115.3129 124.3295\n",
       "May 2018 122.9990       119.0201 126.9779 116.9138 129.0842\n",
       "Jun 2018 121.2928       116.4915 126.0940 113.9499 128.6357\n",
       "Jul 2018 120.7846       115.2754 126.2938 112.3590 129.2102\n",
       "Aug 2018 120.3091       114.1666 126.4515 110.9150 129.7031"
      ]
     },
     "metadata": {},
     "output_type": "display_data"
    }
   ],
   "source": [
    "forecast_indataframe=data.frame(forecast_data)\n",
    "forecast_indataframe"
   ]
  },
  {
   "cell_type": "markdown",
   "metadata": {},
   "source": [
    "## Conclusion:\n",
    "Time series is a very important aspect when ti comes to usage in real time scenarios. The data training needs to be more dynamic when the amount of data coming into the dataset increases. The optimum models to be identified is a very important task. Training the data to find the model giving the least error is the aim for a model developer. \\\n",
    "Here the data shows more reasonable forecast when Holt Winter’s exponential smoothing is done. \\\n",
    "The forecast shows a high upward trend throughout the years, which means that the demand for Soy increases and the consumption is also high.  \\\n",
    "This is due to the increasing research in the health benefits soy provides and the other benefits as well which includes animal protection. This shows the increase in the number of vegans throughout the years since they consume Soy as a substitute for a lot of different food items. \n"
   ]
  }
 ],
 "metadata": {
  "kernelspec": {
   "display_name": "R",
   "language": "R",
   "name": "ir"
  },
  "language_info": {
   "codemirror_mode": "r",
   "file_extension": ".r",
   "mimetype": "text/x-r-source",
   "name": "R",
   "pygments_lexer": "r",
   "version": "3.6.1"
  }
 },
 "nbformat": 4,
 "nbformat_minor": 2
}
